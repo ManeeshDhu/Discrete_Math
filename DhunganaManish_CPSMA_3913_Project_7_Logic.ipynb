{
  "nbformat": 4,
  "nbformat_minor": 0,
  "metadata": {
    "colab": {
      "name": "DhunganaManish_CPSMA_3913_Project_7_Logic.ipynb",
      "provenance": [],
      "authorship_tag": "ABX9TyN7TRLGINVb77LVY0FcITdd",
      "include_colab_link": true
    },
    "kernelspec": {
      "name": "python3",
      "display_name": "Python 3"
    },
    "language_info": {
      "name": "python"
    }
  },
  "cells": [
    {
      "cell_type": "markdown",
      "metadata": {
        "id": "view-in-github",
        "colab_type": "text"
      },
      "source": [
        "<a href=\"https://colab.research.google.com/github/ManeeshDhu/Discrete_Math/blob/main/DhunganaManish_CPSMA_3913_Project_7_Logic.ipynb\" target=\"_parent\"><img src=\"https://colab.research.google.com/assets/colab-badge.svg\" alt=\"Open In Colab\"/></a>"
      ]
    },
    {
      "cell_type": "markdown",
      "source": [
        "# **Project Module 7 : Logic**\n",
        "\n",
        "CPSMA 3913. Discrete Mathematics\n",
        "\n",
        "Student: Manish Dhungana #238129\n",
        "\n",
        "Instructor : Dr. Jacob"
      ],
      "metadata": {
        "id": "nEJae72azkZ8"
      }
    },
    {
      "cell_type": "markdown",
      "source": [
        "For my  project,There are going to be three propositions. The three propostions are as below:\n",
        "\n",
        "\n",
        "1.   Burger - p\n",
        "2.   Pop - r\n",
        "3.   Fries -q\n",
        "\n",
        "\n",
        "\n",
        "\n",
        "\n",
        "\n",
        "\n"
      ],
      "metadata": {
        "id": "4P3qRwcG4tq5"
      }
    },
    {
      "cell_type": "code",
      "source": [
        "Burger = True\n",
        "Fries = True\n",
        "Pop = False"
      ],
      "metadata": {
        "id": "v0HQIbWg12tD"
      },
      "execution_count": 1,
      "outputs": []
    },
    {
      "cell_type": "markdown",
      "source": [
        "**Truth of the Statements**\n"
      ],
      "metadata": {
        "id": "FzXYaCVL2CBx"
      }
    },
    {
      "cell_type": "markdown",
      "source": [
        "r ∧ p"
      ],
      "metadata": {
        "id": "LVYkM6KW2d2B"
      }
    },
    {
      "cell_type": "code",
      "source": [
        "Fries and Burger"
      ],
      "metadata": {
        "colab": {
          "base_uri": "https://localhost:8080/"
        },
        "id": "tOwLngWh2giH",
        "outputId": "51a47ac9-e50e-4c81-d30d-9ce614987346"
      },
      "execution_count": 2,
      "outputs": [
        {
          "output_type": "execute_result",
          "data": {
            "text/plain": [
              "True"
            ]
          },
          "metadata": {},
          "execution_count": 2
        }
      ]
    },
    {
      "cell_type": "markdown",
      "source": [
        "r ∨ ¬q"
      ],
      "metadata": {
        "id": "Vm7XMsWm2l6Z"
      }
    },
    {
      "cell_type": "code",
      "source": [
        "Fries or not Pop"
      ],
      "metadata": {
        "colab": {
          "base_uri": "https://localhost:8080/"
        },
        "id": "IvODl-vv2pj_",
        "outputId": "d1b5bbe5-1f5b-47b8-85ae-410eb9a7db16"
      },
      "execution_count": 3,
      "outputs": [
        {
          "output_type": "execute_result",
          "data": {
            "text/plain": [
              "True"
            ]
          },
          "metadata": {},
          "execution_count": 3
        }
      ]
    },
    {
      "cell_type": "markdown",
      "source": [
        "r ⇒ p"
      ],
      "metadata": {
        "id": "kat2RMAH2wCm"
      }
    },
    {
      "cell_type": "code",
      "source": [
        "not Fries or Burger"
      ],
      "metadata": {
        "colab": {
          "base_uri": "https://localhost:8080/"
        },
        "id": "oI4XNnpD2w0n",
        "outputId": "db79b36d-5d69-425a-9641-beb0a60fd63b"
      },
      "execution_count": 4,
      "outputs": [
        {
          "output_type": "execute_result",
          "data": {
            "text/plain": [
              "True"
            ]
          },
          "metadata": {},
          "execution_count": 4
        }
      ]
    },
    {
      "cell_type": "markdown",
      "source": [
        "**Generating Truth Table**"
      ],
      "metadata": {
        "id": "UYN-q1oy2-ib"
      }
    },
    {
      "cell_type": "code",
      "source": [
        "import ttg"
      ],
      "metadata": {
        "id": "zMJ97mJp3Fsy"
      },
      "execution_count": 8,
      "outputs": []
    },
    {
      "cell_type": "code",
      "source": [
        "table = ttg.Truths(['P', 'Q', 'R'], ['~Q', 'R and P', 'R or ~Q', 'R => P'], ints = False)\n",
        "table.as_pandas().style.set_properties(**{'text-align': 'left'}).hide_index()"
      ],
      "metadata": {
        "colab": {
          "base_uri": "https://localhost:8080/",
          "height": 300
        },
        "id": "8EA3-roC3J4O",
        "outputId": "0d0af244-4763-4d9f-ffd0-730ab7e417c3"
      },
      "execution_count": 9,
      "outputs": [
        {
          "output_type": "execute_result",
          "data": {
            "text/html": [
              "<style type=\"text/css\">\n",
              "#T_4e302_row0_col0, #T_4e302_row0_col1, #T_4e302_row0_col2, #T_4e302_row0_col3, #T_4e302_row0_col4, #T_4e302_row0_col5, #T_4e302_row0_col6, #T_4e302_row1_col0, #T_4e302_row1_col1, #T_4e302_row1_col2, #T_4e302_row1_col3, #T_4e302_row1_col4, #T_4e302_row1_col5, #T_4e302_row1_col6, #T_4e302_row2_col0, #T_4e302_row2_col1, #T_4e302_row2_col2, #T_4e302_row2_col3, #T_4e302_row2_col4, #T_4e302_row2_col5, #T_4e302_row2_col6, #T_4e302_row3_col0, #T_4e302_row3_col1, #T_4e302_row3_col2, #T_4e302_row3_col3, #T_4e302_row3_col4, #T_4e302_row3_col5, #T_4e302_row3_col6, #T_4e302_row4_col0, #T_4e302_row4_col1, #T_4e302_row4_col2, #T_4e302_row4_col3, #T_4e302_row4_col4, #T_4e302_row4_col5, #T_4e302_row4_col6, #T_4e302_row5_col0, #T_4e302_row5_col1, #T_4e302_row5_col2, #T_4e302_row5_col3, #T_4e302_row5_col4, #T_4e302_row5_col5, #T_4e302_row5_col6, #T_4e302_row6_col0, #T_4e302_row6_col1, #T_4e302_row6_col2, #T_4e302_row6_col3, #T_4e302_row6_col4, #T_4e302_row6_col5, #T_4e302_row6_col6, #T_4e302_row7_col0, #T_4e302_row7_col1, #T_4e302_row7_col2, #T_4e302_row7_col3, #T_4e302_row7_col4, #T_4e302_row7_col5, #T_4e302_row7_col6 {\n",
              "  text-align: left;\n",
              "}\n",
              "</style>\n",
              "<table id=\"T_4e302_\" class=\"dataframe\">\n",
              "  <thead>\n",
              "    <tr>\n",
              "      <th class=\"col_heading level0 col0\" >P</th>\n",
              "      <th class=\"col_heading level0 col1\" >Q</th>\n",
              "      <th class=\"col_heading level0 col2\" >R</th>\n",
              "      <th class=\"col_heading level0 col3\" >~Q</th>\n",
              "      <th class=\"col_heading level0 col4\" >R and P</th>\n",
              "      <th class=\"col_heading level0 col5\" >R or ~Q</th>\n",
              "      <th class=\"col_heading level0 col6\" >R => P</th>\n",
              "    </tr>\n",
              "  </thead>\n",
              "  <tbody>\n",
              "    <tr>\n",
              "      <td id=\"T_4e302_row0_col0\" class=\"data row0 col0\" >True</td>\n",
              "      <td id=\"T_4e302_row0_col1\" class=\"data row0 col1\" >True</td>\n",
              "      <td id=\"T_4e302_row0_col2\" class=\"data row0 col2\" >True</td>\n",
              "      <td id=\"T_4e302_row0_col3\" class=\"data row0 col3\" >False</td>\n",
              "      <td id=\"T_4e302_row0_col4\" class=\"data row0 col4\" >True</td>\n",
              "      <td id=\"T_4e302_row0_col5\" class=\"data row0 col5\" >True</td>\n",
              "      <td id=\"T_4e302_row0_col6\" class=\"data row0 col6\" >True</td>\n",
              "    </tr>\n",
              "    <tr>\n",
              "      <td id=\"T_4e302_row1_col0\" class=\"data row1 col0\" >True</td>\n",
              "      <td id=\"T_4e302_row1_col1\" class=\"data row1 col1\" >True</td>\n",
              "      <td id=\"T_4e302_row1_col2\" class=\"data row1 col2\" >False</td>\n",
              "      <td id=\"T_4e302_row1_col3\" class=\"data row1 col3\" >False</td>\n",
              "      <td id=\"T_4e302_row1_col4\" class=\"data row1 col4\" >False</td>\n",
              "      <td id=\"T_4e302_row1_col5\" class=\"data row1 col5\" >False</td>\n",
              "      <td id=\"T_4e302_row1_col6\" class=\"data row1 col6\" >True</td>\n",
              "    </tr>\n",
              "    <tr>\n",
              "      <td id=\"T_4e302_row2_col0\" class=\"data row2 col0\" >True</td>\n",
              "      <td id=\"T_4e302_row2_col1\" class=\"data row2 col1\" >False</td>\n",
              "      <td id=\"T_4e302_row2_col2\" class=\"data row2 col2\" >True</td>\n",
              "      <td id=\"T_4e302_row2_col3\" class=\"data row2 col3\" >True</td>\n",
              "      <td id=\"T_4e302_row2_col4\" class=\"data row2 col4\" >True</td>\n",
              "      <td id=\"T_4e302_row2_col5\" class=\"data row2 col5\" >True</td>\n",
              "      <td id=\"T_4e302_row2_col6\" class=\"data row2 col6\" >True</td>\n",
              "    </tr>\n",
              "    <tr>\n",
              "      <td id=\"T_4e302_row3_col0\" class=\"data row3 col0\" >True</td>\n",
              "      <td id=\"T_4e302_row3_col1\" class=\"data row3 col1\" >False</td>\n",
              "      <td id=\"T_4e302_row3_col2\" class=\"data row3 col2\" >False</td>\n",
              "      <td id=\"T_4e302_row3_col3\" class=\"data row3 col3\" >True</td>\n",
              "      <td id=\"T_4e302_row3_col4\" class=\"data row3 col4\" >False</td>\n",
              "      <td id=\"T_4e302_row3_col5\" class=\"data row3 col5\" >True</td>\n",
              "      <td id=\"T_4e302_row3_col6\" class=\"data row3 col6\" >True</td>\n",
              "    </tr>\n",
              "    <tr>\n",
              "      <td id=\"T_4e302_row4_col0\" class=\"data row4 col0\" >False</td>\n",
              "      <td id=\"T_4e302_row4_col1\" class=\"data row4 col1\" >True</td>\n",
              "      <td id=\"T_4e302_row4_col2\" class=\"data row4 col2\" >True</td>\n",
              "      <td id=\"T_4e302_row4_col3\" class=\"data row4 col3\" >False</td>\n",
              "      <td id=\"T_4e302_row4_col4\" class=\"data row4 col4\" >False</td>\n",
              "      <td id=\"T_4e302_row4_col5\" class=\"data row4 col5\" >True</td>\n",
              "      <td id=\"T_4e302_row4_col6\" class=\"data row4 col6\" >False</td>\n",
              "    </tr>\n",
              "    <tr>\n",
              "      <td id=\"T_4e302_row5_col0\" class=\"data row5 col0\" >False</td>\n",
              "      <td id=\"T_4e302_row5_col1\" class=\"data row5 col1\" >True</td>\n",
              "      <td id=\"T_4e302_row5_col2\" class=\"data row5 col2\" >False</td>\n",
              "      <td id=\"T_4e302_row5_col3\" class=\"data row5 col3\" >False</td>\n",
              "      <td id=\"T_4e302_row5_col4\" class=\"data row5 col4\" >False</td>\n",
              "      <td id=\"T_4e302_row5_col5\" class=\"data row5 col5\" >False</td>\n",
              "      <td id=\"T_4e302_row5_col6\" class=\"data row5 col6\" >True</td>\n",
              "    </tr>\n",
              "    <tr>\n",
              "      <td id=\"T_4e302_row6_col0\" class=\"data row6 col0\" >False</td>\n",
              "      <td id=\"T_4e302_row6_col1\" class=\"data row6 col1\" >False</td>\n",
              "      <td id=\"T_4e302_row6_col2\" class=\"data row6 col2\" >True</td>\n",
              "      <td id=\"T_4e302_row6_col3\" class=\"data row6 col3\" >True</td>\n",
              "      <td id=\"T_4e302_row6_col4\" class=\"data row6 col4\" >False</td>\n",
              "      <td id=\"T_4e302_row6_col5\" class=\"data row6 col5\" >True</td>\n",
              "      <td id=\"T_4e302_row6_col6\" class=\"data row6 col6\" >False</td>\n",
              "    </tr>\n",
              "    <tr>\n",
              "      <td id=\"T_4e302_row7_col0\" class=\"data row7 col0\" >False</td>\n",
              "      <td id=\"T_4e302_row7_col1\" class=\"data row7 col1\" >False</td>\n",
              "      <td id=\"T_4e302_row7_col2\" class=\"data row7 col2\" >False</td>\n",
              "      <td id=\"T_4e302_row7_col3\" class=\"data row7 col3\" >True</td>\n",
              "      <td id=\"T_4e302_row7_col4\" class=\"data row7 col4\" >False</td>\n",
              "      <td id=\"T_4e302_row7_col5\" class=\"data row7 col5\" >True</td>\n",
              "      <td id=\"T_4e302_row7_col6\" class=\"data row7 col6\" >True</td>\n",
              "    </tr>\n",
              "  </tbody>\n",
              "</table>\n"
            ],
            "text/plain": [
              "<pandas.io.formats.style.Styler at 0x7fb22a16b990>"
            ]
          },
          "metadata": {},
          "execution_count": 9
        }
      ]
    },
    {
      "cell_type": "code",
      "source": [
        "table = ttg.Truths(['P', 'Q', 'R'], ['P xor Q', '~(P xor Q)', 'Q or R', '(~(P xor Q)) => (Q or R)'], ints = False)\n",
        "table.as_pandas().style.set_properties(**{'text-align': 'left'}).hide_index()\n"
      ],
      "metadata": {
        "colab": {
          "base_uri": "https://localhost:8080/",
          "height": 300
        },
        "id": "aNUZ0smG3wEv",
        "outputId": "312f488d-d584-48e7-9b08-38c700ab62cc"
      },
      "execution_count": 10,
      "outputs": [
        {
          "output_type": "execute_result",
          "data": {
            "text/html": [
              "<style type=\"text/css\">\n",
              "#T_21093_row0_col0, #T_21093_row0_col1, #T_21093_row0_col2, #T_21093_row0_col3, #T_21093_row0_col4, #T_21093_row0_col5, #T_21093_row0_col6, #T_21093_row1_col0, #T_21093_row1_col1, #T_21093_row1_col2, #T_21093_row1_col3, #T_21093_row1_col4, #T_21093_row1_col5, #T_21093_row1_col6, #T_21093_row2_col0, #T_21093_row2_col1, #T_21093_row2_col2, #T_21093_row2_col3, #T_21093_row2_col4, #T_21093_row2_col5, #T_21093_row2_col6, #T_21093_row3_col0, #T_21093_row3_col1, #T_21093_row3_col2, #T_21093_row3_col3, #T_21093_row3_col4, #T_21093_row3_col5, #T_21093_row3_col6, #T_21093_row4_col0, #T_21093_row4_col1, #T_21093_row4_col2, #T_21093_row4_col3, #T_21093_row4_col4, #T_21093_row4_col5, #T_21093_row4_col6, #T_21093_row5_col0, #T_21093_row5_col1, #T_21093_row5_col2, #T_21093_row5_col3, #T_21093_row5_col4, #T_21093_row5_col5, #T_21093_row5_col6, #T_21093_row6_col0, #T_21093_row6_col1, #T_21093_row6_col2, #T_21093_row6_col3, #T_21093_row6_col4, #T_21093_row6_col5, #T_21093_row6_col6, #T_21093_row7_col0, #T_21093_row7_col1, #T_21093_row7_col2, #T_21093_row7_col3, #T_21093_row7_col4, #T_21093_row7_col5, #T_21093_row7_col6 {\n",
              "  text-align: left;\n",
              "}\n",
              "</style>\n",
              "<table id=\"T_21093_\" class=\"dataframe\">\n",
              "  <thead>\n",
              "    <tr>\n",
              "      <th class=\"col_heading level0 col0\" >P</th>\n",
              "      <th class=\"col_heading level0 col1\" >Q</th>\n",
              "      <th class=\"col_heading level0 col2\" >R</th>\n",
              "      <th class=\"col_heading level0 col3\" >P xor Q</th>\n",
              "      <th class=\"col_heading level0 col4\" >~(P xor Q)</th>\n",
              "      <th class=\"col_heading level0 col5\" >Q or R</th>\n",
              "      <th class=\"col_heading level0 col6\" >(~(P xor Q)) => (Q or R)</th>\n",
              "    </tr>\n",
              "  </thead>\n",
              "  <tbody>\n",
              "    <tr>\n",
              "      <td id=\"T_21093_row0_col0\" class=\"data row0 col0\" >True</td>\n",
              "      <td id=\"T_21093_row0_col1\" class=\"data row0 col1\" >True</td>\n",
              "      <td id=\"T_21093_row0_col2\" class=\"data row0 col2\" >True</td>\n",
              "      <td id=\"T_21093_row0_col3\" class=\"data row0 col3\" >False</td>\n",
              "      <td id=\"T_21093_row0_col4\" class=\"data row0 col4\" >True</td>\n",
              "      <td id=\"T_21093_row0_col5\" class=\"data row0 col5\" >True</td>\n",
              "      <td id=\"T_21093_row0_col6\" class=\"data row0 col6\" >True</td>\n",
              "    </tr>\n",
              "    <tr>\n",
              "      <td id=\"T_21093_row1_col0\" class=\"data row1 col0\" >True</td>\n",
              "      <td id=\"T_21093_row1_col1\" class=\"data row1 col1\" >True</td>\n",
              "      <td id=\"T_21093_row1_col2\" class=\"data row1 col2\" >False</td>\n",
              "      <td id=\"T_21093_row1_col3\" class=\"data row1 col3\" >False</td>\n",
              "      <td id=\"T_21093_row1_col4\" class=\"data row1 col4\" >True</td>\n",
              "      <td id=\"T_21093_row1_col5\" class=\"data row1 col5\" >True</td>\n",
              "      <td id=\"T_21093_row1_col6\" class=\"data row1 col6\" >True</td>\n",
              "    </tr>\n",
              "    <tr>\n",
              "      <td id=\"T_21093_row2_col0\" class=\"data row2 col0\" >True</td>\n",
              "      <td id=\"T_21093_row2_col1\" class=\"data row2 col1\" >False</td>\n",
              "      <td id=\"T_21093_row2_col2\" class=\"data row2 col2\" >True</td>\n",
              "      <td id=\"T_21093_row2_col3\" class=\"data row2 col3\" >True</td>\n",
              "      <td id=\"T_21093_row2_col4\" class=\"data row2 col4\" >False</td>\n",
              "      <td id=\"T_21093_row2_col5\" class=\"data row2 col5\" >True</td>\n",
              "      <td id=\"T_21093_row2_col6\" class=\"data row2 col6\" >True</td>\n",
              "    </tr>\n",
              "    <tr>\n",
              "      <td id=\"T_21093_row3_col0\" class=\"data row3 col0\" >True</td>\n",
              "      <td id=\"T_21093_row3_col1\" class=\"data row3 col1\" >False</td>\n",
              "      <td id=\"T_21093_row3_col2\" class=\"data row3 col2\" >False</td>\n",
              "      <td id=\"T_21093_row3_col3\" class=\"data row3 col3\" >True</td>\n",
              "      <td id=\"T_21093_row3_col4\" class=\"data row3 col4\" >False</td>\n",
              "      <td id=\"T_21093_row3_col5\" class=\"data row3 col5\" >False</td>\n",
              "      <td id=\"T_21093_row3_col6\" class=\"data row3 col6\" >True</td>\n",
              "    </tr>\n",
              "    <tr>\n",
              "      <td id=\"T_21093_row4_col0\" class=\"data row4 col0\" >False</td>\n",
              "      <td id=\"T_21093_row4_col1\" class=\"data row4 col1\" >True</td>\n",
              "      <td id=\"T_21093_row4_col2\" class=\"data row4 col2\" >True</td>\n",
              "      <td id=\"T_21093_row4_col3\" class=\"data row4 col3\" >True</td>\n",
              "      <td id=\"T_21093_row4_col4\" class=\"data row4 col4\" >False</td>\n",
              "      <td id=\"T_21093_row4_col5\" class=\"data row4 col5\" >True</td>\n",
              "      <td id=\"T_21093_row4_col6\" class=\"data row4 col6\" >True</td>\n",
              "    </tr>\n",
              "    <tr>\n",
              "      <td id=\"T_21093_row5_col0\" class=\"data row5 col0\" >False</td>\n",
              "      <td id=\"T_21093_row5_col1\" class=\"data row5 col1\" >True</td>\n",
              "      <td id=\"T_21093_row5_col2\" class=\"data row5 col2\" >False</td>\n",
              "      <td id=\"T_21093_row5_col3\" class=\"data row5 col3\" >True</td>\n",
              "      <td id=\"T_21093_row5_col4\" class=\"data row5 col4\" >False</td>\n",
              "      <td id=\"T_21093_row5_col5\" class=\"data row5 col5\" >True</td>\n",
              "      <td id=\"T_21093_row5_col6\" class=\"data row5 col6\" >True</td>\n",
              "    </tr>\n",
              "    <tr>\n",
              "      <td id=\"T_21093_row6_col0\" class=\"data row6 col0\" >False</td>\n",
              "      <td id=\"T_21093_row6_col1\" class=\"data row6 col1\" >False</td>\n",
              "      <td id=\"T_21093_row6_col2\" class=\"data row6 col2\" >True</td>\n",
              "      <td id=\"T_21093_row6_col3\" class=\"data row6 col3\" >False</td>\n",
              "      <td id=\"T_21093_row6_col4\" class=\"data row6 col4\" >True</td>\n",
              "      <td id=\"T_21093_row6_col5\" class=\"data row6 col5\" >True</td>\n",
              "      <td id=\"T_21093_row6_col6\" class=\"data row6 col6\" >True</td>\n",
              "    </tr>\n",
              "    <tr>\n",
              "      <td id=\"T_21093_row7_col0\" class=\"data row7 col0\" >False</td>\n",
              "      <td id=\"T_21093_row7_col1\" class=\"data row7 col1\" >False</td>\n",
              "      <td id=\"T_21093_row7_col2\" class=\"data row7 col2\" >False</td>\n",
              "      <td id=\"T_21093_row7_col3\" class=\"data row7 col3\" >False</td>\n",
              "      <td id=\"T_21093_row7_col4\" class=\"data row7 col4\" >True</td>\n",
              "      <td id=\"T_21093_row7_col5\" class=\"data row7 col5\" >False</td>\n",
              "      <td id=\"T_21093_row7_col6\" class=\"data row7 col6\" >False</td>\n",
              "    </tr>\n",
              "  </tbody>\n",
              "</table>\n"
            ],
            "text/plain": [
              "<pandas.io.formats.style.Styler at 0x7fb229deb5d0>"
            ]
          },
          "metadata": {},
          "execution_count": 10
        }
      ]
    }
  ]
}