{
  "nbformat": 4,
  "nbformat_minor": 0,
  "metadata": {
    "colab": {
      "name": "DhunganaManish_CPSMA_3913_Project_6_Numbers.ipynb",
      "provenance": [],
      "authorship_tag": "ABX9TyPNF2Ohtgm88wlidMFo6m8Q",
      "include_colab_link": true
    },
    "kernelspec": {
      "name": "python3",
      "display_name": "Python 3"
    },
    "language_info": {
      "name": "python"
    }
  },
  "cells": [
    {
      "cell_type": "markdown",
      "metadata": {
        "id": "view-in-github",
        "colab_type": "text"
      },
      "source": [
        "<a href=\"https://colab.research.google.com/github/ManeeshDhu/Discrete_Math/blob/main/DhunganaManish_CPSMA_3913_Project_6_Numbers.ipynb\" target=\"_parent\"><img src=\"https://colab.research.google.com/assets/colab-badge.svg\" alt=\"Open In Colab\"/></a>"
      ]
    },
    {
      "cell_type": "markdown",
      "source": [
        "# **Project Module 6 : Numbers**\n",
        "\n",
        "CPSMA 3913. Discrete Mathematics\n",
        "\n",
        "Student: Manish Dhungana #238129\n",
        "\n",
        "Instructor : Dr. Jacob"
      ],
      "metadata": {
        "id": "JUzpyfdclq_j"
      }
    },
    {
      "cell_type": "markdown",
      "source": [
        "**a)** Converting the base 7 number, 24036 to base 10"
      ],
      "metadata": {
        "id": "f8d-BytLVr5i"
      }
    },
    {
      "cell_type": "code",
      "source": [
        "#function to convert any base number to different base numebr\n",
        "def base_converter(num,base):\n",
        "  result = 0\n",
        "  count= 0\n",
        "  numb = len(str(num)) # calculate the length of number\n",
        "  num1 = [int(x) for x in str(num)] #its converts int to list\n",
        "  for i in map(int, num1):\n",
        "    count +=1\n",
        "    result +=i* (base**(numb- count))\n",
        "  return result"
      ],
      "metadata": {
        "id": "jncmFtJ-VsIm"
      },
      "execution_count": 84,
      "outputs": []
    },
    {
      "cell_type": "code",
      "source": [
        "base_converter(24036,7) #calling our fucntion  with 2 arguments"
      ],
      "metadata": {
        "colab": {
          "base_uri": "https://localhost:8080/"
        },
        "id": "6gOFYaZDVxAn",
        "outputId": "05cf837a-6ecc-4c5a-fcf3-d3c8d87e8458"
      },
      "execution_count": 85,
      "outputs": [
        {
          "output_type": "execute_result",
          "data": {
            "text/plain": [
              "6201"
            ]
          },
          "metadata": {},
          "execution_count": 85
        }
      ]
    },
    {
      "cell_type": "markdown",
      "source": [
        "**b)** Converting the hexadecimal number 72e3 into base ten"
      ],
      "metadata": {
        "id": "4XWhEvYYVyY3"
      }
    },
    {
      "cell_type": "code",
      "source": [
        "def hexatobase(numb):\n",
        " result = 0\n",
        " count = 0\n",
        " base = 16\n",
        " for ch in numb:\n",
        "   count += 1\n",
        "   num = 0\n",
        "   if ch == 'a' or ch == 'A':\n",
        "     num = 10\n",
        "   elif ch == 'b' or ch == 'B': \n",
        "     num = 11\n",
        "   elif ch == 'c' or ch == 'C':\n",
        "     num = 12\n",
        "   elif ch == 'd' or ch == 'D':\n",
        "     num = 13\n",
        "   elif ch == 'e' or ch == 'E':\n",
        "     num = 14\n",
        "   elif ch == 'f' or ch == 'F':\n",
        "     num = 15\n",
        "   else:\n",
        "     num = int(ch)\n",
        "   result += num * (base**(len(numb) - count))\n",
        " return result\n",
        "  \n",
        "\n",
        "\n"
      ],
      "metadata": {
        "id": "VVKiwEg1V0IX"
      },
      "execution_count": 86,
      "outputs": []
    },
    {
      "cell_type": "code",
      "source": [
        "hexatobase('72e3')"
      ],
      "metadata": {
        "colab": {
          "base_uri": "https://localhost:8080/"
        },
        "id": "Yg-ejvvpV29E",
        "outputId": "20cce99b-a8f8-4f68-e6d5-4b6e057ad644"
      },
      "execution_count": 87,
      "outputs": [
        {
          "output_type": "execute_result",
          "data": {
            "text/plain": [
              "29411"
            ]
          },
          "metadata": {},
          "execution_count": 87
        }
      ]
    },
    {
      "cell_type": "markdown",
      "source": [
        "**C)** Converting 3735928559 into hexadecimal"
      ],
      "metadata": {
        "id": "72yRGOuQV5zo"
      }
    },
    {
      "cell_type": "code",
      "source": [
        "from math import floor\n",
        "\n",
        "result = ''\n",
        "count = 0\n",
        "num = 3735928559\n",
        "\n",
        "def convert(num):\n",
        "  m = num % 16\n",
        "  h = ''\n",
        "  if m == 10:\n",
        "    h = 'A'\n",
        "  elif m == 11:\n",
        "    h = 'B'\n",
        "  elif m == 12:\n",
        "    h = 'C'\n",
        "  elif m == 13:\n",
        "    h = 'D'\n",
        "  elif m == 14:\n",
        "    h = 'E'\n",
        "  elif m == 15:\n",
        "    h = 'F'\n",
        "  else:\n",
        "    h = str(m)\n",
        "  return h\n",
        "\n",
        "while num > 15:\n",
        "  result = convert(num) + result\n",
        "  num = floor(num/16)\n",
        "\n",
        "result = convert(num) + result\n",
        "\n",
        "result\n",
        "\n"
      ],
      "metadata": {
        "colab": {
          "base_uri": "https://localhost:8080/",
          "height": 35
        },
        "id": "34a4Vp3OV6kU",
        "outputId": "bc41f1ed-4369-4812-d063-dea12f7be476"
      },
      "execution_count": 88,
      "outputs": [
        {
          "output_type": "execute_result",
          "data": {
            "application/vnd.google.colaboratory.intrinsic+json": {
              "type": "string"
            },
            "text/plain": [
              "'DEADBEEF'"
            ]
          },
          "metadata": {},
          "execution_count": 88
        }
      ]
    },
    {
      "cell_type": "markdown",
      "source": [
        "**(D)** Using two’s complement preform the base ten subtraction 25 − 37.\n",
        "\n"
      ],
      "metadata": {
        "id": "QgHhAXUKV8-v"
      }
    },
    {
      "cell_type": "code",
      "source": [
        "def addone(list7binary):\n",
        "  counter = 7\n",
        "  list7binary[counter] = str(1 + int(list7binary[counter]))\n",
        "  while list7binary[counter]=='2':\n",
        "    list7binary[counter] = '0'\n",
        "    counter -= 1\n",
        "    list7binary[counter] = str(1 + int(list7binary[counter]))\n",
        "  return list7binary\n",
        "\n",
        "def flipit(list7binary):\n",
        "  newlist = []\n",
        "  for i in list7binary:\n",
        "    if i == '0':\n",
        "      newlist.append('1')\n",
        "    else:\n",
        "      newlist.append('0')\n",
        "  return newlist\n",
        "def twoscomplement(x):\n",
        "  if not (x>-128)&(x<127):\n",
        "    return \"No Two's Complement\"\n",
        "  ans = '00000000'\n",
        "  ans = list(ans) \n",
        "  counter = 7\n",
        "  if x>=0:\n",
        "    while x != 0:\n",
        "      ans[counter] = str(x%2)\n",
        "      x = floor(x/2)\n",
        "      counter -= 1\n",
        "  if x<0:\n",
        "    x = abs(x)\n",
        "    while x != 0:\n",
        "      ans[counter] = str(x%2)\n",
        "      x = floor(x/2)\n",
        "      counter -= 1\n",
        "    ans = flipit(ans)\n",
        "    addone(ans)        \n",
        "  ans = ''.join(ans)\n",
        "  return ans"
      ],
      "metadata": {
        "id": "S3fGJvBefN9Q"
      },
      "execution_count": 89,
      "outputs": []
    },
    {
      "cell_type": "code",
      "source": [
        "twoscomplement(25)"
      ],
      "metadata": {
        "colab": {
          "base_uri": "https://localhost:8080/",
          "height": 35
        },
        "id": "zZNujslyfUP1",
        "outputId": "c4ddc113-f097-47a3-cca1-a68b82fb71c7"
      },
      "execution_count": 90,
      "outputs": [
        {
          "output_type": "execute_result",
          "data": {
            "application/vnd.google.colaboratory.intrinsic+json": {
              "type": "string"
            },
            "text/plain": [
              "'00011001'"
            ]
          },
          "metadata": {},
          "execution_count": 90
        }
      ]
    },
    {
      "cell_type": "code",
      "source": [
        "twoscomplement(-37)"
      ],
      "metadata": {
        "colab": {
          "base_uri": "https://localhost:8080/",
          "height": 35
        },
        "id": "40XjW6XYfZJp",
        "outputId": "c9741148-95ad-4932-db1b-73ab6ff1bc4d"
      },
      "execution_count": 91,
      "outputs": [
        {
          "output_type": "execute_result",
          "data": {
            "application/vnd.google.colaboratory.intrinsic+json": {
              "type": "string"
            },
            "text/plain": [
              "'11011011'"
            ]
          },
          "metadata": {},
          "execution_count": 91
        }
      ]
    },
    {
      "cell_type": "code",
      "source": [
        "#performing the base ten Subtracting 25 -37 using two's complement\n",
        "binary = \"11001\"\n",
        "twos_comp1 = \"11011011\"\n",
        "dif = bin(int(binary, 2) + int(twos_comp1, 2))\n",
        "print(dif[2:])"
      ],
      "metadata": {
        "colab": {
          "base_uri": "https://localhost:8080/"
        },
        "id": "dwD-LfdLdAPJ",
        "outputId": "d84b5676-884e-4aa0-fe1c-55c01d3f1184"
      },
      "execution_count": 92,
      "outputs": [
        {
          "output_type": "stream",
          "name": "stdout",
          "text": [
            "11110100\n"
          ]
        }
      ]
    },
    {
      "cell_type": "markdown",
      "source": [
        "Let's check the answer.  if my all codes are working correcty it should give me -12 as an output because 25 -37 = -12. -12 two's complement binary is 11110100"
      ],
      "metadata": {
        "id": "tPkZqOGqisR3"
      }
    },
    {
      "cell_type": "code",
      "source": [
        "\n",
        "def twosCom_binDec(bin, digit):\n",
        "        while len(bin)<digit :\n",
        "                bin = '0'+bin\n",
        "        if bin[0] == '0':\n",
        "                return int(bin, 2)\n",
        "        else:\n",
        "                return -1 * (int(''.join('1' if x == '0' else '0' for x in bin), 2) + 1)"
      ],
      "metadata": {
        "id": "sjKxyMgNiKfo"
      },
      "execution_count": 93,
      "outputs": []
    },
    {
      "cell_type": "code",
      "source": [
        "twosCom_binDec(\"11110100\",8)"
      ],
      "metadata": {
        "colab": {
          "base_uri": "https://localhost:8080/"
        },
        "id": "FyCJb4xLiNNn",
        "outputId": "8e2ab079-a09e-42a0-d352-e1a5648efc87"
      },
      "execution_count": 94,
      "outputs": [
        {
          "output_type": "execute_result",
          "data": {
            "text/plain": [
              "-12"
            ]
          },
          "metadata": {},
          "execution_count": 94
        }
      ]
    }
  ]
}