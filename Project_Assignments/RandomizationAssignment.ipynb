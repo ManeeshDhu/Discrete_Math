{
  "nbformat": 4,
  "nbformat_minor": 0,
  "metadata": {
    "colab": {
      "provenance": [],
      "include_colab_link": true
    },
    "kernelspec": {
      "name": "python3",
      "display_name": "Python 3"
    },
    "language_info": {
      "name": "python"
    }
  },
  "cells": [
    {
      "cell_type": "markdown",
      "metadata": {
        "id": "view-in-github",
        "colab_type": "text"
      },
      "source": [
        "<a href=\"https://colab.research.google.com/github/ManeeshDhu/Discrete_Math/blob/main/Project_Assignments/RandomizationAssignment.ipynb\" target=\"_parent\"><img src=\"https://colab.research.google.com/assets/colab-badge.svg\" alt=\"Open In Colab\"/></a>"
      ]
    },
    {
      "cell_type": "markdown",
      "source": [
        "# Simulation Assignment\n",
        "\n"
      ],
      "metadata": {
        "id": "OmPwLqs4wNbI"
      }
    },
    {
      "cell_type": "markdown",
      "source": [
        "On exam 1, I proposed the problem of having 10 cases of water with 10 bottles in each case and 10 oz in each bottle.  One case is known to be filled with one ounce less than all the other bottles.  Jacob proposed a random selection method for finding the case with the bottles that have less water.  Essentially he'll pull one bottle and test it.  If it is 9 ounces, he has found the case that is short.  Let's explore this random test.\n",
        "\n",
        "1. Write a random function call that returns 10 ounces 9 out of 10 times and 9 ounces one out of ten.\n",
        "\n",
        "2. What is the expected weight of a random pull?\n",
        "\n",
        "3. Test your expected weight by running a simulation drawing at least 100 bottles and taking the average of the wieghts.  Does it agree with your theoretical result?\n",
        "\n",
        "4. We are particuarly interested in how many pulls would be required to find the case that was short.  If you test one at a time, how many pulls do you expect before you find the case that is short?\n",
        "\n",
        "5. Create a function that creates a sequence of pulling bottles and stops when you find the bottle with 9 ounces.  Test this function a bunch of times.  Do you notice anything odd when comparing it to your previous result?\n",
        "\n",
        "6. Propose a modification to the coding you did in the first step that would improve the results.  Hint:  Consider a different data structure that would be more applicable to the real world case."
      ],
      "metadata": {
        "id": "g83rw_zywSp1"
      }
    },
    {
      "cell_type": "markdown",
      "source": [
        "**1.Write a random function call that returns 10 ounces 9 out of 10 times and 9 ounces one out of ten.**"
      ],
      "metadata": {
        "id": "K1qnzP6yRDxD"
      }
    },
    {
      "cell_type": "code",
      "execution_count": 14,
      "metadata": {
        "id": "782zpNTjwKP5",
        "colab": {
          "base_uri": "https://localhost:8080/"
        },
        "outputId": "7d9d1bec-5073-4eb3-8bc3-7e06d9d74e95"
      },
      "outputs": [
        {
          "output_type": "stream",
          "name": "stdout",
          "text": [
            "10\n",
            "10\n",
            "10\n",
            "10\n",
            "10\n",
            "10\n",
            "10\n",
            "10\n",
            "10\n",
            "10\n"
          ]
        }
      ],
      "source": [
        "import random\n",
        "\n",
        "def random_weight():\n",
        "    # This function will return 10 ounces 90% of the time and 9 ounces 10% of the time\n",
        "    if random.random() < 0.9:\n",
        "        return 10  # 90% chance to return 10 ounces\n",
        "    else:\n",
        "        return 9   # 10% chance to return 9 ounces\n",
        "\n",
        "\n",
        "for _ in range(10):\n",
        "    print(random_weight())\n"
      ]
    },
    {
      "cell_type": "markdown",
      "source": [
        "**2.What is the expected weight of a random pull?**\n",
        "\n",
        "\n",
        "\n"
      ],
      "metadata": {
        "id": "Qx8fJLjJRIyZ"
      }
    },
    {
      "cell_type": "markdown",
      "source": [
        "Expected Weight=P(Weight=10)×Weight 1 +P(Weight=9)×Weight 2\n",
        "=(9/10 * 10) + (1/10 * 9) = 9+0.9 = 9.9"
      ],
      "metadata": {
        "id": "m4l53D4HRg_F"
      }
    },
    {
      "cell_type": "code",
      "source": [
        "# Probability of each outcome\n",
        "probability_of_10 = 0.9\n",
        "probability_of_9 = 0.1\n",
        "\n",
        "# Weight of each outcome\n",
        "weight_10 = 10\n",
        "weight_9 = 9\n",
        "\n",
        "# Calculating the expected weight\n",
        "expected_weight = (probability_of_10 * weight_10) + (probability_of_9 * weight_9)\n",
        "print(expected_weight)\n"
      ],
      "metadata": {
        "colab": {
          "base_uri": "https://localhost:8080/"
        },
        "id": "d7uJKBOTRQHp",
        "outputId": "55bc6e6c-8617-4c60-e404-dd0eb9f1adf1"
      },
      "execution_count": 10,
      "outputs": [
        {
          "output_type": "stream",
          "name": "stdout",
          "text": [
            "9.9\n"
          ]
        }
      ]
    },
    {
      "cell_type": "markdown",
      "source": [
        "**3.Test your expected weight by running a simulation drawing at least 100 bottles and taking the average of the wieghts. Does it agree with your theoretical result?**"
      ],
      "metadata": {
        "id": "pSVgwaq5RunP"
      }
    },
    {
      "cell_type": "code",
      "source": [
        "# Simulating the drawing of 100 bottles\n",
        "weights = [random_weight() for _ in range(100)]\n",
        "\n",
        "# Calculating the average weight\n",
        "average_weight = sum(weights) / len(weights)\n",
        "print(average_weight)"
      ],
      "metadata": {
        "colab": {
          "base_uri": "https://localhost:8080/"
        },
        "id": "zu6HW9CyRwNH",
        "outputId": "b11da384-01ee-4c94-84a4-72cac41c0c8e"
      },
      "execution_count": 18,
      "outputs": [
        {
          "output_type": "stream",
          "name": "stdout",
          "text": [
            "9.9\n"
          ]
        }
      ]
    },
    {
      "cell_type": "markdown",
      "source": [
        "The expected weight of random pull is 9.9 and the expected weight of random pull by running simulation of 100 bottles is 9.9"
      ],
      "metadata": {
        "id": "jTUc3Eu9SRwN"
      }
    },
    {
      "cell_type": "markdown",
      "source": [
        "**4.We are particuarly interested in how many pulls would be required to find the case that was short. If you test one at a time, how many pulls do you expect before you find the case that is short?**"
      ],
      "metadata": {
        "id": "LoI7YnB4SXBO"
      }
    },
    {
      "cell_type": "code",
      "source": [
        "# Probability of pulling a 9-ounce bottle\n",
        "probability_of_9 = 0.1\n",
        "\n",
        "# Calculating the expected number of pulls to find the first 9-ounce bottle\n",
        "expected_pulls = 1 / probability_of_9\n",
        "print(\"Expected number of pulls:\", expected_pulls)\n"
      ],
      "metadata": {
        "colab": {
          "base_uri": "https://localhost:8080/"
        },
        "id": "EFYIXKNdSaQO",
        "outputId": "ac03a70f-0f23-4682-f3f9-7680e3b10815"
      },
      "execution_count": 21,
      "outputs": [
        {
          "output_type": "stream",
          "name": "stdout",
          "text": [
            "Expected number of pulls: 10.0\n"
          ]
        }
      ]
    },
    {
      "cell_type": "markdown",
      "source": [
        "**5.Create a function that creates a sequence of pulling bottles and stops when you find the bottle with 9 ounces. Test this function a bunch of times. Do you notice anything odd when comparing it to your previous result?**"
      ],
      "metadata": {
        "id": "WWvXDRe0TJYp"
      }
    },
    {
      "cell_type": "code",
      "source": [
        "import random\n",
        "\n",
        "def find_short_bottle():\n",
        "    pulls = 0\n",
        "    while True:\n",
        "        pulls += 1\n",
        "        if random.random() >= 0.9:  # 10% chance to get a 9-ounce bottle\n",
        "            return pulls\n",
        "\n",
        "\n",
        "test_runs = 10000\n",
        "pull_counts = [find_short_bottle() for _ in range(test_runs)]\n",
        "\n",
        "# Calculating the average number of pulls\n",
        "average_pulls = sum(pull_counts) / len(pull_counts)\n",
        "print(average_pulls)\n"
      ],
      "metadata": {
        "colab": {
          "base_uri": "https://localhost:8080/"
        },
        "id": "9LmsiFmITI5q",
        "outputId": "ebe46fb4-98f8-48c4-d1ce-43957bf06443"
      },
      "execution_count": 24,
      "outputs": [
        {
          "output_type": "stream",
          "name": "stdout",
          "text": [
            "9.9924\n"
          ]
        }
      ]
    },
    {
      "cell_type": "markdown",
      "source": [
        "**6.Propose a modification to the coding you did in the first step that would improve the results. Hint: Consider a different data structure that would be more applicable to the real world case.**"
      ],
      "metadata": {
        "id": "Mq2spYkPTkJc"
      }
    },
    {
      "cell_type": "markdown",
      "source": [
        "Here's a proposed modification using a queue:\n",
        "\n",
        "Create a queue of bottles where exactly one bottle is 9 ounces and the rest are 10 ounces.\n",
        "Randomly shuffle this queue to simulate the random placement of the 9-ounce bottle.\n",
        "Sequentially pull bottles from the queue and test until you find the 9-ounce bottle.\n",
        "Count the number of pulls required.\n",
        "This approach provides a more realistic simulation by ensuring there is exactly one 9-ounce bottle in each batch of bottles tested.\n",
        "\n"
      ],
      "metadata": {
        "id": "lJ8yxbT3TwzV"
      }
    }
  ]
}